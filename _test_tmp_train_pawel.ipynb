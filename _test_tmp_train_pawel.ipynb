{
 "cells": [
  {
   "cell_type": "code",
   "execution_count": 1,
   "metadata": {},
   "outputs": [
    {
     "name": "stderr",
     "output_type": "stream",
     "text": [
      "c:\\Users\\PD_user\\miniconda3\\envs\\ml_test\\lib\\site-packages\\tqdm\\auto.py:22: TqdmWarning: IProgress not found. Please update jupyter and ipywidgets. See https://ipywidgets.readthedocs.io/en/stable/user_install.html\n",
      "  from .autonotebook import tqdm as notebook_tqdm\n"
     ]
    }
   ],
   "source": [
    "# from IPython import get_ipython\n",
    "# ipython = get_ipython()\n",
    "\n",
    "# ipython.magic(\"pylab\")\n",
    "# ipython.magic(\"load_ext autoreload\")\n",
    "# ipython.magic(\"autoreload 2\")\n",
    "\n",
    "# from A0_Configuration.hyperparam import Parsing\n",
    "from B0_Dataset.dataset import SemanticKittiDataset"
   ]
  },
  {
   "cell_type": "code",
   "execution_count": 2,
   "metadata": {},
   "outputs": [],
   "source": [
    "YAML_CONFIG_PATH = ''"
   ]
  },
  {
   "cell_type": "code",
   "execution_count": 3,
   "metadata": {},
   "outputs": [],
   "source": [
    "from __future__ import print_function\n",
    "import argparse\n",
    "import os\n",
    "import random\n",
    "import torch\n",
    "import torch.nn.parallel\n",
    "import torch.optim as optim\n",
    "import torch.utils.data\n",
    "from B0_Dataset.dataset import SemanticKittiDataset\n",
    "from D0_Modeling.model import PointNetCls, feature_transform_regularizer\n",
    "import torch.nn.functional as F\n",
    "from tqdm import tqdm"
   ]
  },
  {
   "cell_type": "code",
   "execution_count": 4,
   "metadata": {},
   "outputs": [],
   "source": [
    "class parser_:\n",
    "    pass"
   ]
  },
  {
   "cell_type": "code",
   "execution_count": 5,
   "metadata": {},
   "outputs": [],
   "source": [
    "opt = parser_()\n",
    "opt.manualSeed = random.randint(1, 10000)\n",
    "opt.data_catalog_path = r\"G:\\01_DATA\\022_UPC\\Project\\_kitti_test\\data_odometry_velodyne\\dataset\\sequences\"\n",
    "opt.yaml_config_path = \"F0_Visualization\\semantic-kitti-api\\config\\semantic-kitti.yaml\""
   ]
  },
  {
   "cell_type": "code",
   "execution_count": 6,
   "metadata": {},
   "outputs": [
    {
     "name": "stdout",
     "output_type": "stream",
     "text": [
      "Random Seed:  5845\n"
     ]
    }
   ],
   "source": [
    "print(\"Random Seed: \", opt.manualSeed)\n",
    "random.seed(opt.manualSeed)\n",
    "torch.manual_seed(opt.manualSeed)\n",
    "\n",
    "dataset = SemanticKittiDataset(\n",
    "        data_catalog_path=opt.data_catalog_path,\n",
    "        sequence_number='04',\n",
    "        action_type='train',\n",
    "        n_points=4000,\n",
    "        yaml_config_path=opt.yaml_config_path)\n",
    "\n",
    "# test_dataset = SemanticKittiDataset(\n",
    "#         root=opt.dataset,\n",
    "#         split='test',\n",
    "#         npoints=opt.num_points,\n",
    "#         data_augmentation=False)"
   ]
  },
  {
   "cell_type": "code",
   "execution_count": null,
   "metadata": {},
   "outputs": [],
   "source": []
  }
 ],
 "metadata": {
  "kernelspec": {
   "display_name": "ml_test",
   "language": "python",
   "name": "python3"
  },
  "language_info": {
   "codemirror_mode": {
    "name": "ipython",
    "version": 3
   },
   "file_extension": ".py",
   "mimetype": "text/x-python",
   "name": "python",
   "nbconvert_exporter": "python",
   "pygments_lexer": "ipython3",
   "version": "3.10.9"
  },
  "orig_nbformat": 4,
  "vscode": {
   "interpreter": {
    "hash": "773ddf2834531d8a5aed6d7dc0d0d076cb01034543a5015eabafcc7f1dd9fc16"
   }
  }
 },
 "nbformat": 4,
 "nbformat_minor": 2
}
